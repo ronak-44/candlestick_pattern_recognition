{
  "nbformat": 4,
  "nbformat_minor": 0,
  "metadata": {
    "colab": {
      "name": "Single_Candlesticks.ipynb",
      "provenance": []
    },
    "kernelspec": {
      "name": "python3",
      "display_name": "Python 3"
    },
    "language_info": {
      "name": "python"
    },
    "accelerator": "GPU"
  },
  "cells": [
    {
      "cell_type": "code",
      "metadata": {
        "colab": {
          "base_uri": "https://localhost:8080/"
        },
        "id": "L9T429TVzrdq",
        "outputId": "d33922ec-8083-4fa0-d152-736e4095552d"
      },
      "source": [
        "from google.colab import drive\n",
        "drive.mount('/content/gdrive')\n",
        "%cd \"/content/gdrive/My Drive/\"\n",
        "%cd candlestick_patterns/"
      ],
      "execution_count": 1,
      "outputs": [
        {
          "output_type": "stream",
          "name": "stdout",
          "text": [
            "Drive already mounted at /content/gdrive; to attempt to forcibly remount, call drive.mount(\"/content/gdrive\", force_remount=True).\n",
            "/content/gdrive/My Drive\n",
            "/content/gdrive/My Drive/candlestick_patterns\n"
          ]
        }
      ]
    },
    {
      "cell_type": "code",
      "metadata": {
        "colab": {
          "base_uri": "https://localhost:8080/"
        },
        "id": "LlZy0iBAzvqm",
        "outputId": "d2b86648-03be-4762-fc6f-b898afb93a65"
      },
      "source": [
        "pip install --upgrade mplfinance"
      ],
      "execution_count": 2,
      "outputs": [
        {
          "output_type": "stream",
          "name": "stdout",
          "text": [
            "Requirement already satisfied: mplfinance in /usr/local/lib/python3.7/dist-packages (0.12.7a17)\n",
            "Requirement already satisfied: pandas in /usr/local/lib/python3.7/dist-packages (from mplfinance) (1.1.5)\n",
            "Requirement already satisfied: matplotlib in /usr/local/lib/python3.7/dist-packages (from mplfinance) (3.2.2)\n",
            "Requirement already satisfied: cycler>=0.10 in /usr/local/lib/python3.7/dist-packages (from matplotlib->mplfinance) (0.10.0)\n",
            "Requirement already satisfied: numpy>=1.11 in /usr/local/lib/python3.7/dist-packages (from matplotlib->mplfinance) (1.19.5)\n",
            "Requirement already satisfied: python-dateutil>=2.1 in /usr/local/lib/python3.7/dist-packages (from matplotlib->mplfinance) (2.8.2)\n",
            "Requirement already satisfied: pyparsing!=2.0.4,!=2.1.2,!=2.1.6,>=2.0.1 in /usr/local/lib/python3.7/dist-packages (from matplotlib->mplfinance) (2.4.7)\n",
            "Requirement already satisfied: kiwisolver>=1.0.1 in /usr/local/lib/python3.7/dist-packages (from matplotlib->mplfinance) (1.3.2)\n",
            "Requirement already satisfied: six in /usr/local/lib/python3.7/dist-packages (from cycler>=0.10->matplotlib->mplfinance) (1.15.0)\n",
            "Requirement already satisfied: pytz>=2017.2 in /usr/local/lib/python3.7/dist-packages (from pandas->mplfinance) (2018.9)\n"
          ]
        }
      ]
    },
    {
      "cell_type": "markdown",
      "metadata": {
        "id": "8sBzht4Qz0if"
      },
      "source": [
        "**Plotting Candlesticks**\n",
        "\n",
        "Saving each day's candlestick pattern into a folder"
      ]
    },
    {
      "cell_type": "code",
      "metadata": {
        "colab": {
          "base_uri": "https://localhost:8080/",
          "height": 487
        },
        "id": "xHMY6wDrzvtK",
        "outputId": "4578ffa2-963c-4f9a-b7dc-bd0f694a63af"
      },
      "source": [
        "import pandas as pd\n",
        "import os\n",
        "import mplfinance as mpf\n",
        "df = pd.read_csv(\"NIFTY 50.csv\",index_col=\"Date\")\n",
        "df.index = pd.to_datetime(df.index,dayfirst=True)\n",
        "mc = mpf.make_marketcolors(up='g',down='r')\n",
        "s  = mpf.make_mpf_style(marketcolors=mc)\n",
        "kwargs = dict(type='candle')\n",
        "#path=os.path.join(os.getcwd(),'triple')\n",
        "#os.chdir(path)\n",
        "#for i in range (5353):\n",
        "#    mpf.plot(df[i:i+3],**kwargs,style=s,scale_width_adjustment=dict(candle=1),figratio=(8,16),savefig=dict(fname='three'+str(df.index[i])[:10],dpi=100,pad_inches=0.25))\n",
        "#    print(i)\n",
        "\n",
        "mpf.plot(df[0:1],**kwargs,style=s,scale_width_adjustment=dict(candle=1),figratio=(8,16))"
      ],
      "execution_count": 3,
      "outputs": [
        {
          "output_type": "display_data",
          "data": {
            "image/png": "[encoded data removed]",
            "text/plain": [
              "<Figure size 287.5x575 with 2 Axes>"
            ]
          },
          "metadata": {}
        }
      ]
    },
    {
      "cell_type": "markdown",
      "metadata": {
        "id": "PkUnhwYTz_xr"
      },
      "source": [
        "**Loading and Resizing Data**\n",
        "\n",
        "Resizing data into a (224,244,3)"
      ]
    },
    {
      "cell_type": "code",
      "metadata": {
        "colab": {
          "base_uri": "https://localhost:8080/"
        },
        "id": "f_17neHXzvvq",
        "outputId": "2235d366-6860-4ddf-d7bb-c0edec7e8d8e"
      },
      "source": [
        "import os\n",
        "zip_path = '/content/gdrive/My Drive/candlestick_patterns/single.zip'\n",
        "!cp \"{zip_path}\" .\n",
        "!unzip -q single.zip"
      ],
      "execution_count": 4,
      "outputs": [
        {
          "output_type": "stream",
          "name": "stdout",
          "text": [
            "cp: '/content/gdrive/My Drive/candlestick_patterns/single.zip' and './single.zip' are the same file\n"
          ]
        }
      ]
    },
    {
      "cell_type": "code",
      "metadata": {
        "id": "NEOMMbkszvxy"
      },
      "source": [
        "import cv2\n",
        "import numpy as np\n",
        "import pandas as pd\n",
        "import mplfinance as mpf\n",
        "import os\n",
        "\n",
        "import tensorflow as tf\n",
        "import matplotlib.pyplot as plt\n",
        "import seaborn as sns\n",
        "\n",
        "from keras.models import Sequential\n",
        "from keras.layers import Conv2D\n",
        "from keras.layers import MaxPooling2D\n",
        "from keras.layers import Dense\n",
        "from keras.layers import Flatten,Dropout,InputLayer\n",
        "from keras.preprocessing.image import ImageDataGenerator\n",
        "from tensorflow.keras.utils import to_categorical\n",
        "\n",
        "\n",
        "from sklearn.model_selection import train_test_split"
      ],
      "execution_count": 5,
      "outputs": []
    },
    {
      "cell_type": "code",
      "metadata": {
        "id": "GxOsSIwuzv0G"
      },
      "source": [
        "def get_data(data_dir=os.getcwd()):\n",
        "    data = [] \n",
        "    i=0\n",
        "    path = os.path.join(data_dir, \"doji\")\n",
        "    for img in os.listdir(path):\n",
        "      try:\n",
        "          img_arr = cv2.imread(os.path.join(path, img))[...,::-1] #convert BGR to RGB format\n",
        "          resized_arr = cv2.resize(img_arr, (64, 64)) # Reshaping images to preferred size\n",
        "          data.append(resized_arr)\n",
        "          print(i)\n",
        "          i=i+1\n",
        "      except Exception as e:\n",
        "          print(e)\n",
        "\n",
        "\n",
        "    return np.array(data)"
      ],
      "execution_count": 6,
      "outputs": []
    },
    {
      "cell_type": "code",
      "metadata": {
        "id": "3_CVDh2Jzv2U"
      },
      "source": [
        "data=get_data()"
      ],
      "execution_count": null,
      "outputs": []
    },
    {
      "cell_type": "code",
      "metadata": {
        "colab": {
          "base_uri": "https://localhost:8080/",
          "height": 423
        },
        "id": "6P7XOi9bzv4p",
        "outputId": "7eb7aa81-17b3-46be-8225-df7b7c155e31"
      },
      "source": [
        "plt.imshow(data[0])\n",
        "plt.axis('off')"
      ],
      "execution_count": 8,
      "outputs": [
        {
          "output_type": "execute_result",
          "data": {
            "text/plain": [
              "(-0.5, 63.5, 63.5, -0.5)"
            ]
          },
          "metadata": {},
          "execution_count": 8
        },
        {
          "output_type": "display_data",
          "data": {
            "image/png": "[encoded data removed]",
            "text/plain": [
              "<Figure size 640x480 with 1 Axes>"
            ]
          },
          "metadata": {}
        }
      ]
    },
    {
      "cell_type": "markdown",
      "metadata": {
        "id": "iydDcwTF17nG"
      },
      "source": [
        "**Doji**\n",
        "\n",
        "---\n",
        "\n"
      ]
    },
    {
      "cell_type": "markdown",
      "metadata": {
        "id": "ndV-2Os717pr"
      },
      "source": [
        "**Determing Target Label**\n",
        "\n",
        "Doji - 1\n",
        "\n",
        "Other - 0"
      ]
    },
    {
      "cell_type": "code",
      "metadata": {
        "id": "poH0imlF2HRi"
      },
      "source": [
        "df['doji']=abs(df.Open-df.Close)/df[[\"Open\",\"Close\"]].max(axis=1) <=0.005\n",
        "df[\"doji\"] = df[\"doji\"].astype(int)\n",
        "df['doji'].value_counts()\n",
        "df['doji'].to_csv(\"Y_doji.csv\")"
      ],
      "execution_count": 9,
      "outputs": []
    },
    {
      "cell_type": "markdown",
      "metadata": {
        "id": "Z9XkEbWs2HdP"
      },
      "source": [
        "**Loading Target Label**"
      ]
    },
    {
      "cell_type": "code",
      "metadata": {
        "colab": {
          "base_uri": "https://localhost:8080/"
        },
        "id": "badg78EFzv66",
        "outputId": "62bf4f4d-2e27-4c9e-e3dc-c3914cde6561"
      },
      "source": [
        "y=pd.read_csv('/content/gdrive/My Drive/candlestick_patterns/Y_doji.csv',index_col=\"Date\")\n",
        "y  = to_categorical(y)\n",
        "y.shape"
      ],
      "execution_count": 10,
      "outputs": [
        {
          "output_type": "execute_result",
          "data": {
            "text/plain": [
              "(5353, 2)"
            ]
          },
          "metadata": {},
          "execution_count": 10
        }
      ]
    },
    {
      "cell_type": "code",
      "metadata": {
        "id": "uDIcG4-Ezv9N"
      },
      "source": [
        "def split(X,y):\n",
        "  X=X/255.0\n",
        "  X_train,X_test, y_train, y_test = train_test_split(X, y, test_size=0.2, random_state=1)\n",
        "  X_train,X_val, y_train, y_val = train_test_split(X_train, y_train, test_size=0.25, random_state=1)\n",
        "  return X_train,y_train,X_val,y_val,X_test,y_test"
      ],
      "execution_count": 11,
      "outputs": []
    },
    {
      "cell_type": "markdown",
      "metadata": {
        "id": "YBdw7fjJ2KMK"
      },
      "source": [
        "**Initializing the CNN Model**"
      ]
    },
    {
      "cell_type": "code",
      "metadata": {
        "id": "ODvML4FQzv_b"
      },
      "source": [
        "def modeldoji():\n",
        "\n",
        "  model = Sequential()\n",
        "  model.add(Conv2D(32, (3, 3), kernel_initializer='he_uniform' ,activation='relu', input_shape=(64,64,3)))\n",
        "  model.add(MaxPooling2D(pool_size=(2, 2)))\n",
        "  \n",
        "  #model.add(Conv2D(64, (3, 3), kernel_initializer='he_uniform' ,activation='relu', input_shape=(64,64,3)))\n",
        "  #model.add(MaxPooling2D(pool_size=(2, 2)))\n",
        "  \n",
        "  model.add(Flatten())\n",
        "  model.add(Dense(1024,kernel_initializer='normal',activation=\"relu\"))\n",
        "  #model.add(Dropout(0.4))\n",
        "  #model.add(Dense(256,kernel_initializer='normal',activation=\"relu\"))\n",
        "  model.add(Dense(2, activation=\"softmax\"))\n",
        "\n",
        "  model.summary()\n",
        "\n",
        "  return model"
      ],
      "execution_count": 13,
      "outputs": []
    },
    {
      "cell_type": "code",
      "metadata": {
        "id": "T0hvQH1vzwBy"
      },
      "source": [
        "X_train,y_train,X_val,y_val,X_test,y_test = split(data,y)"
      ],
      "execution_count": 12,
      "outputs": []
    },
    {
      "cell_type": "markdown",
      "metadata": {
        "id": "H5sz_CPx2NpM"
      },
      "source": [
        "**Model Training**"
      ]
    },
    {
      "cell_type": "code",
      "metadata": {
        "colab": {
          "base_uri": "https://localhost:8080/"
        },
        "id": "TzK2wpLYzwEQ",
        "outputId": "37a9506b-be74-47f0-acfd-6695e62e8c46"
      },
      "source": [
        "from tensorflow.keras.optimizers import SGD\n",
        "model=modeldoji()\n",
        "opt = SGD(lr=0.01, momentum=0.9)\n",
        "model.compile(optimizer='adam', loss='binary_crossentropy', metrics=['accuracy'])\n",
        "history = model.fit(X_train,y_train, batch_size=256, epochs=20,validation_data=(X_val,y_val))"
      ],
      "execution_count": 14,
      "outputs": [
        {
          "output_type": "stream",
          "name": "stdout",
          "text": [
            "Model: \"sequential\"\n",
            "_________________________________________________________________\n",
            "Layer (type)                 Output Shape              Param #   \n",
            "=================================================================\n",
            "conv2d (Conv2D)              (None, 62, 62, 32)        896       \n",
            "_________________________________________________________________\n",
            "max_pooling2d (MaxPooling2D) (None, 31, 31, 32)        0         \n",
            "_________________________________________________________________\n",
            "flatten (Flatten)            (None, 30752)             0         \n",
            "_________________________________________________________________\n",
            "dense (Dense)                (None, 1024)              31491072  \n",
            "_________________________________________________________________\n",
            "dense_1 (Dense)              (None, 2)                 2050      \n",
            "=================================================================\n",
            "Total params: 31,494,018\n",
            "Trainable params: 31,494,018\n",
            "Non-trainable params: 0\n",
            "_________________________________________________________________\n"
          ]
        },
        {
          "output_type": "stream",
          "name": "stderr",
          "text": [
            "/usr/local/lib/python3.7/dist-packages/keras/optimizer_v2/optimizer_v2.py:356: UserWarning: The `lr` argument is deprecated, use `learning_rate` instead.\n",
            "  \"The `lr` argument is deprecated, use `learning_rate` instead.\")\n"
          ]
        },
        {
          "output_type": "stream",
          "name": "stdout",
          "text": [
            "Epoch 1/20\n",
            "13/13 [==============================] - 33s 99ms/step - loss: 24.7036 - accuracy: 0.5469 - val_loss: 6.9138 - val_accuracy: 0.5724\n",
            "Epoch 2/20\n",
            "13/13 [==============================] - 1s 69ms/step - loss: 2.8038 - accuracy: 0.5643 - val_loss: 0.8331 - val_accuracy: 0.7460\n",
            "Epoch 3/20\n",
            "13/13 [==============================] - 1s 64ms/step - loss: 0.9136 - accuracy: 0.7334 - val_loss: 0.6185 - val_accuracy: 0.7750\n",
            "Epoch 4/20\n",
            "13/13 [==============================] - 1s 64ms/step - loss: 0.5297 - accuracy: 0.8163 - val_loss: 0.4329 - val_accuracy: 0.8226\n",
            "Epoch 5/20\n",
            "13/13 [==============================] - 1s 64ms/step - loss: 0.4390 - accuracy: 0.8219 - val_loss: 0.4199 - val_accuracy: 0.8413\n",
            "Epoch 6/20\n",
            "13/13 [==============================] - 1s 62ms/step - loss: 0.4039 - accuracy: 0.8356 - val_loss: 0.4175 - val_accuracy: 0.8189\n",
            "Epoch 7/20\n",
            "13/13 [==============================] - 1s 64ms/step - loss: 0.3800 - accuracy: 0.8393 - val_loss: 0.3772 - val_accuracy: 0.8301\n",
            "Epoch 8/20\n",
            "13/13 [==============================] - 1s 66ms/step - loss: 0.3704 - accuracy: 0.8343 - val_loss: 0.3697 - val_accuracy: 0.8459\n",
            "Epoch 9/20\n",
            "13/13 [==============================] - 1s 65ms/step - loss: 0.3690 - accuracy: 0.8346 - val_loss: 0.3563 - val_accuracy: 0.8273\n",
            "Epoch 10/20\n",
            "13/13 [==============================] - 1s 63ms/step - loss: 0.4281 - accuracy: 0.8085 - val_loss: 0.4393 - val_accuracy: 0.8161\n",
            "Epoch 11/20\n",
            "13/13 [==============================] - 1s 65ms/step - loss: 0.3814 - accuracy: 0.8387 - val_loss: 0.4074 - val_accuracy: 0.8207\n",
            "Epoch 12/20\n",
            "13/13 [==============================] - 1s 65ms/step - loss: 0.3525 - accuracy: 0.8462 - val_loss: 0.3367 - val_accuracy: 0.8441\n",
            "Epoch 13/20\n",
            "13/13 [==============================] - 1s 64ms/step - loss: 0.3282 - accuracy: 0.8508 - val_loss: 0.3589 - val_accuracy: 0.8515\n",
            "Epoch 14/20\n",
            "13/13 [==============================] - 1s 63ms/step - loss: 0.3424 - accuracy: 0.8418 - val_loss: 0.3398 - val_accuracy: 0.8357\n",
            "Epoch 15/20\n",
            "13/13 [==============================] - 1s 63ms/step - loss: 0.3343 - accuracy: 0.8480 - val_loss: 0.3417 - val_accuracy: 0.8366\n",
            "Epoch 16/20\n",
            "13/13 [==============================] - 1s 65ms/step - loss: 0.3226 - accuracy: 0.8533 - val_loss: 0.3373 - val_accuracy: 0.8525\n",
            "Epoch 17/20\n",
            "13/13 [==============================] - 1s 65ms/step - loss: 0.3217 - accuracy: 0.8511 - val_loss: 0.3334 - val_accuracy: 0.8525\n",
            "Epoch 18/20\n",
            "13/13 [==============================] - 1s 63ms/step - loss: 0.3222 - accuracy: 0.8574 - val_loss: 0.3380 - val_accuracy: 0.8534\n",
            "Epoch 19/20\n",
            "13/13 [==============================] - 1s 63ms/step - loss: 0.3338 - accuracy: 0.8455 - val_loss: 0.4101 - val_accuracy: 0.8301\n",
            "Epoch 20/20\n",
            "13/13 [==============================] - 1s 64ms/step - loss: 0.3358 - accuracy: 0.8434 - val_loss: 0.3649 - val_accuracy: 0.8459\n"
          ]
        }
      ]
    },
    {
      "cell_type": "markdown",
      "metadata": {
        "id": "KkyKM84n2RtX"
      },
      "source": [
        "**Plotting Results**"
      ]
    },
    {
      "cell_type": "code",
      "metadata": {
        "colab": {
          "base_uri": "https://localhost:8080/",
          "height": 608
        },
        "id": "XBXUr-kazwGn",
        "outputId": "14548c5f-8ed7-4ba8-edea-54f27eb57d4a"
      },
      "source": [
        "acc = history.history['accuracy']\n",
        "val_acc = history.history['val_accuracy']\n",
        "loss = history.history['loss']\n",
        "val_loss = history.history['val_loss']\n",
        "epochs_range = range(20)\n",
        "\n",
        "plt.figure(figsize=(15, 15))\n",
        "plt.subplot(2, 2, 1)\n",
        "plt.plot(epochs_range, acc, label='Training Accuracy')\n",
        "plt.plot(epochs_range, val_acc, label='Validation Accuracy')\n",
        "plt.legend(loc='lower right')\n",
        "plt.title('Training and Validation Accuracy')\n",
        "\n",
        "plt.subplot(2, 2, 2)\n",
        "plt.plot(epochs_range, loss, label='Training Loss')\n",
        "plt.plot(epochs_range, val_loss, label='Validation Loss')\n",
        "plt.legend(loc='upper right')\n",
        "plt.title('Training and Validation Loss')\n",
        "plt.show()"
      ],
      "execution_count": 15,
      "outputs": [
        {
          "output_type": "display_data",
          "data": {
            "image/png": "[encoded data removed]",
            "text/plain": [
              "<Figure size 1500x1500 with 2 Axes>"
            ]
          },
          "metadata": {}
        }
      ]
    },
    {
      "cell_type": "code",
      "metadata": {
        "colab": {
          "base_uri": "https://localhost:8080/"
        },
        "id": "UJNx0MkJzwI8",
        "outputId": "16bcd511-f90b-4bb6-c2fd-771a485294ea"
      },
      "source": [
        "_, acc = model.evaluate(X_test,y_test,verbose=0)\n",
        "print('Test Accuracy: %.3f' % (acc * 100))\n",
        "\n",
        "\n",
        "from sklearn.metrics import classification_report\n",
        "#x_test,y_true = test_iterator.next()\n",
        "pred = model.predict(X_test)\n",
        "\n",
        "#predictions = predictions.reshape(1,-1)[0]\n",
        "y_pred = np.argmax(pred, axis=1)\n",
        "y_true = np.argmax(y_test, axis=1)\n",
        "#print(predictions)\n",
        "#print(y_pred)\n",
        "\n",
        "#print(x)\n",
        "from sklearn.metrics import classification_report\n",
        "print(classification_report(y_true, y_pred, target_names = ['No (Class 0)','doji (Class 1)']))"
      ],
      "execution_count": 16,
      "outputs": [
        {
          "output_type": "stream",
          "name": "stdout",
          "text": [
            "Test Accuracy: 86.275\n",
            "                precision    recall  f1-score   support\n",
            "\n",
            "  No (Class 0)       0.85      0.93      0.89       644\n",
            "doji (Class 1)       0.88      0.76      0.82       427\n",
            "\n",
            "      accuracy                           0.86      1071\n",
            "     macro avg       0.87      0.85      0.85      1071\n",
            "  weighted avg       0.86      0.86      0.86      1071\n",
            "\n"
          ]
        }
      ]
    },
    {
      "cell_type": "markdown",
      "metadata": {
        "id": "O1Wu4Mnz4-mz"
      },
      "source": [
        "**Marubozu**\n",
        "\n",
        "---\n",
        "\n"
      ]
    },
    {
      "cell_type": "markdown",
      "metadata": {
        "id": "PdHt43ah50k0"
      },
      "source": [
        "Determing Target Label\n",
        "\n",
        "Bullish Marubozu - 1\n",
        "\n",
        "Bearish Marubozu - 2\n",
        "\n",
        "None - 0"
      ]
    },
    {
      "cell_type": "code",
      "metadata": {
        "id": "3jA0MdKqzwLe"
      },
      "source": [
        "def maru(df):\n",
        "  if(abs(df.Open-df.Close)/max(df.Open,df.Close) >=0.01):\n",
        "    if((abs(df.Open-df.Low)/max(df.Open,df.Low) <=0.005) & (abs(df.Close-df.High)/max(df.Close,df.High) <=0.005)):\n",
        "      return 1\n",
        "    elif((abs(df.Open-df.High)/max(df.Open,df.High) <=0.005) & (abs(df.Close-df.Low)/max(df.Close,df.Low) <=0.005)):\n",
        "      return 2\n",
        "    else:\n",
        "      return 0\n",
        "  else:\n",
        "    return 0\n",
        "\n",
        "df['Marubozu'] = df.apply(maru, axis = 1)\n",
        "df['Marubozu'] = df['Marubozu'].astype(int)\n",
        "df['Marubozu'].to_csv( \"Y_marubozu.csv\")"
      ],
      "execution_count": null,
      "outputs": []
    },
    {
      "cell_type": "markdown",
      "metadata": {
        "id": "OHW_9Y7u6CMU"
      },
      "source": [
        "**Loading Target Label**"
      ]
    },
    {
      "cell_type": "code",
      "metadata": {
        "colab": {
          "base_uri": "https://localhost:8080/"
        },
        "id": "GXSKMNSC59V5",
        "outputId": "2e177206-94c1-494f-f413-fa48405b316f"
      },
      "source": [
        "y=pd.read_csv('/content/gdrive/My Drive/candlestick_patterns/Y_marubozu.csv')\n",
        "print(y.iloc[:,1].value_counts())\n",
        "y  = to_categorical(y.iloc[:,1])\n",
        "y.shape"
      ],
      "execution_count": 17,
      "outputs": [
        {
          "output_type": "stream",
          "name": "stdout",
          "text": [
            "0    4284\n",
            "1     601\n",
            "2     468\n",
            "Name: Marubozu, dtype: int64\n"
          ]
        },
        {
          "output_type": "execute_result",
          "data": {
            "text/plain": [
              "(5353, 3)"
            ]
          },
          "metadata": {},
          "execution_count": 17
        }
      ]
    },
    {
      "cell_type": "markdown",
      "metadata": {
        "id": "dabH5eTF6qbn"
      },
      "source": [
        "**Initializing the CNN Model**"
      ]
    },
    {
      "cell_type": "code",
      "metadata": {
        "id": "gr37CEoW59YV"
      },
      "source": [
        "def modelmaru():\n",
        "\n",
        "  model = Sequential()\n",
        "  model.add(Conv2D(32, (3, 3), kernel_initializer='he_uniform' ,activation='relu', input_shape=(64,64,3)))\n",
        "  model.add(MaxPooling2D(pool_size=(2, 2)))\n",
        "  \n",
        "  #model.add(Conv2D(64, (3, 3), kernel_initializer='he_uniform' ,activation='relu', input_shape=(64,64,3)))\n",
        "  #model.add(MaxPooling2D(pool_size=(2, 2)))\n",
        "  \n",
        "  model.add(Flatten())\n",
        "  model.add(Dense(1024,kernel_initializer='normal',activation=\"relu\"))\n",
        "  #model.add(Dropout(0.4))\n",
        "  #model.add(Dense(256,kernel_initializer='normal',activation=\"relu\"))\n",
        "  model.add(Dense(3, activation=\"softmax\"))\n",
        "\n",
        "  model.summary()\n",
        "\n",
        "  return model"
      ],
      "execution_count": 18,
      "outputs": []
    },
    {
      "cell_type": "code",
      "metadata": {
        "id": "Ev7gDAEG59aq"
      },
      "source": [
        "X_train,y_train,X_val,y_val,X_test,y_test = split(data,y)"
      ],
      "execution_count": 20,
      "outputs": []
    },
    {
      "cell_type": "markdown",
      "metadata": {
        "id": "HYga2gY56ubE"
      },
      "source": [
        "**Model Training**"
      ]
    },
    {
      "cell_type": "code",
      "metadata": {
        "colab": {
          "base_uri": "https://localhost:8080/"
        },
        "id": "SpbD8u1c6Km2",
        "outputId": "f5683ec4-0430-4cca-869b-0eb49004b755"
      },
      "source": [
        "from tensorflow.keras.optimizers import SGD\n",
        "model=modelmaru()\n",
        "opt = SGD(lr=0.01, momentum=0.9)\n",
        "model.compile(optimizer='adam', loss='binary_crossentropy', metrics=['accuracy'])\n",
        "history = model.fit(X_train,y_train, batch_size=256, epochs=15,validation_data=(X_val,y_val))"
      ],
      "execution_count": 21,
      "outputs": [
        {
          "output_type": "stream",
          "name": "stdout",
          "text": [
            "Model: \"sequential_2\"\n",
            "_________________________________________________________________\n",
            "Layer (type)                 Output Shape              Param #   \n",
            "=================================================================\n",
            "conv2d_2 (Conv2D)            (None, 62, 62, 32)        896       \n",
            "_________________________________________________________________\n",
            "max_pooling2d_2 (MaxPooling2 (None, 31, 31, 32)        0         \n",
            "_________________________________________________________________\n",
            "flatten_2 (Flatten)          (None, 30752)             0         \n",
            "_________________________________________________________________\n",
            "dense_4 (Dense)              (None, 1024)              31491072  \n",
            "_________________________________________________________________\n",
            "dense_5 (Dense)              (None, 3)                 3075      \n",
            "=================================================================\n",
            "Total params: 31,495,043\n",
            "Trainable params: 31,495,043\n",
            "Non-trainable params: 0\n",
            "_________________________________________________________________\n",
            "Epoch 1/15\n"
          ]
        },
        {
          "output_type": "stream",
          "name": "stderr",
          "text": [
            "/usr/local/lib/python3.7/dist-packages/keras/optimizer_v2/optimizer_v2.py:356: UserWarning: The `lr` argument is deprecated, use `learning_rate` instead.\n",
            "  \"The `lr` argument is deprecated, use `learning_rate` instead.\")\n"
          ]
        },
        {
          "output_type": "stream",
          "name": "stdout",
          "text": [
            "13/13 [==============================] - 2s 94ms/step - loss: 14.3507 - accuracy: 0.7132 - val_loss: 9.5707 - val_accuracy: 0.8002\n",
            "Epoch 2/15\n",
            "13/13 [==============================] - 1s 65ms/step - loss: 4.0082 - accuracy: 0.8119 - val_loss: 0.2347 - val_accuracy: 0.8711\n",
            "Epoch 3/15\n",
            "13/13 [==============================] - 1s 64ms/step - loss: 0.5641 - accuracy: 0.8471 - val_loss: 0.3250 - val_accuracy: 0.8739\n",
            "Epoch 4/15\n",
            "13/13 [==============================] - 1s 65ms/step - loss: 0.2207 - accuracy: 0.8841 - val_loss: 0.1869 - val_accuracy: 0.8898\n",
            "Epoch 5/15\n",
            "13/13 [==============================] - 1s 66ms/step - loss: 0.1667 - accuracy: 0.8935 - val_loss: 0.1647 - val_accuracy: 0.8898\n",
            "Epoch 6/15\n",
            "13/13 [==============================] - 1s 65ms/step - loss: 0.1565 - accuracy: 0.8985 - val_loss: 0.1627 - val_accuracy: 0.8954\n",
            "Epoch 7/15\n",
            "13/13 [==============================] - 1s 65ms/step - loss: 0.1526 - accuracy: 0.8950 - val_loss: 0.1716 - val_accuracy: 0.8824\n",
            "Epoch 8/15\n",
            "13/13 [==============================] - 1s 66ms/step - loss: 0.1483 - accuracy: 0.8975 - val_loss: 0.1518 - val_accuracy: 0.8917\n",
            "Epoch 9/15\n",
            "13/13 [==============================] - 1s 65ms/step - loss: 0.1460 - accuracy: 0.9035 - val_loss: 0.1540 - val_accuracy: 0.8898\n",
            "Epoch 10/15\n",
            "13/13 [==============================] - 1s 67ms/step - loss: 0.1452 - accuracy: 0.8975 - val_loss: 0.1710 - val_accuracy: 0.8814\n",
            "Epoch 11/15\n",
            "13/13 [==============================] - 1s 64ms/step - loss: 0.1484 - accuracy: 0.9007 - val_loss: 0.1739 - val_accuracy: 0.8870\n",
            "Epoch 12/15\n",
            "13/13 [==============================] - 1s 65ms/step - loss: 0.1421 - accuracy: 0.9038 - val_loss: 0.1484 - val_accuracy: 0.8889\n",
            "Epoch 13/15\n",
            "13/13 [==============================] - 1s 66ms/step - loss: 0.1455 - accuracy: 0.9019 - val_loss: 0.1425 - val_accuracy: 0.8908\n",
            "Epoch 14/15\n",
            "13/13 [==============================] - 1s 64ms/step - loss: 0.1323 - accuracy: 0.9063 - val_loss: 0.1428 - val_accuracy: 0.8917\n",
            "Epoch 15/15\n",
            "13/13 [==============================] - 1s 65ms/step - loss: 0.1509 - accuracy: 0.9010 - val_loss: 0.1710 - val_accuracy: 0.8824\n"
          ]
        }
      ]
    },
    {
      "cell_type": "markdown",
      "metadata": {
        "id": "9-LFQ8DG6yMw"
      },
      "source": [
        "**Plotting Results**"
      ]
    },
    {
      "cell_type": "code",
      "metadata": {
        "colab": {
          "base_uri": "https://localhost:8080/",
          "height": 608
        },
        "id": "t9Krl4iC6KsM",
        "outputId": "8e857f8f-fb44-4a60-b7ba-5074d94ab789"
      },
      "source": [
        "acc = history.history['accuracy']\n",
        "val_acc = history.history['val_accuracy']\n",
        "loss = history.history['loss']\n",
        "val_loss = history.history['val_loss']\n",
        "epochs_range = range(15)\n",
        "\n",
        "plt.figure(figsize=(15, 15))\n",
        "plt.subplot(2, 2, 1)\n",
        "plt.plot(epochs_range, acc, label='Training Accuracy')\n",
        "plt.plot(epochs_range, val_acc, label='Validation Accuracy')\n",
        "plt.legend(loc='lower right')\n",
        "plt.title('Training and Validation Accuracy')\n",
        "\n",
        "plt.subplot(2, 2, 2)\n",
        "plt.plot(epochs_range, loss, label='Training Loss')\n",
        "plt.plot(epochs_range, val_loss, label='Validation Loss')\n",
        "plt.legend(loc='upper right')\n",
        "plt.title('Training and Validation Loss')\n",
        "plt.show()"
      ],
      "execution_count": 22,
      "outputs": [
        {
          "output_type": "display_data",
          "data": {
            "image/png": "[encoded data removed]",
            "text/plain": [
              "<Figure size 1500x1500 with 2 Axes>"
            ]
          },
          "metadata": {}
        }
      ]
    },
    {
      "cell_type": "code",
      "metadata": {
        "colab": {
          "base_uri": "https://localhost:8080/"
        },
        "id": "fOPDTQbC6Kt4",
        "outputId": "b58a4b17-13de-44ac-91d7-971f07fecbcb"
      },
      "source": [
        "_, acc = model.evaluate(X_test,y_test,verbose=0)\n",
        "print('Test Accuracy: %.3f' % (acc * 100))\n",
        "\n",
        "\n",
        "from sklearn.metrics import classification_report\n",
        "#x_test,y_true = test_iterator.next()\n",
        "pred = model.predict(X_test)\n",
        "#predictions = predictions.reshape(1,-1)[0]\n",
        "y_pred = np.argmax(pred, axis=1)\n",
        "y_true = np.argmax(y_test, axis=1)\n",
        "#print(predictions)\n",
        "#print(y_pred)\n",
        "\n",
        "#print(x)\n",
        "from sklearn.metrics import classification_report\n",
        "print(classification_report(y_true, y_pred))"
      ],
      "execution_count": 23,
      "outputs": [
        {
          "output_type": "stream",
          "name": "stdout",
          "text": [
            "Test Accuracy: 88.235\n",
            "              precision    recall  f1-score   support\n",
            "\n",
            "           0       0.89      0.98      0.93       852\n",
            "           1       0.88      0.56      0.69       121\n",
            "           2       0.80      0.46      0.58        98\n",
            "\n",
            "    accuracy                           0.88      1071\n",
            "   macro avg       0.86      0.67      0.73      1071\n",
            "weighted avg       0.88      0.88      0.87      1071\n",
            "\n"
          ]
        }
      ]
    },
    {
      "cell_type": "markdown",
      "metadata": {
        "id": "P-Ayzzjs8AN1"
      },
      "source": [
        "**Shooting Star / Umbrella**"
      ]
    },
    {
      "cell_type": "markdown",
      "metadata": {
        "id": "3GIbuQ2b8AQo"
      },
      "source": [
        "Determing Target Label\n",
        "\n",
        "Paper Umbrella - 1\n",
        "\n",
        "Shooting Star - 2\n",
        "\n",
        "None - 0"
      ]
    },
    {
      "cell_type": "code",
      "metadata": {
        "id": "K5CNH9Sa6KwI"
      },
      "source": [
        "import os\n",
        "def umbrella_star(df):\n",
        "  #Paper Umbrella\n",
        "  if((abs(df['Open']-df['Close'])/max(df['Open'],df['Close']) <=0.02)  & ((min(df['Close'],df['Open'])-df['Low'] )>=2*abs(df['Open']-df['Close'])) ):\n",
        "    if(  (abs(df['High']-df['Open'])/max(df['Open'],df['High']) <=0.005) |   (abs(df['High']-df['Close'])/max(df['Close'],df['High']) <=0.005) ):\n",
        "      return 1\n",
        "    else:\n",
        "      return 0       \n",
        "  #Shooting Star\n",
        "  elif((abs(df['Open']-df['Close'])/max(df['Open'],df['Close']) <=0.02) &   ((df['High']-max(df['Open'],df['Close']) )>=2*abs(df['Open']-df['Close']))  ):\n",
        "    if((abs(df['Close']-df['Low'])/max(df['Close'],df['Low']) <=0.005) | (abs(df['Low']-df['Open'])/max(df['Open'],df['Low']) <=0.005) ):\n",
        "      return 2\n",
        "    else:\n",
        "      return 0\n",
        "  else:\n",
        "    return 0\n",
        "\n",
        "df['Umbrella/Star'] = df.apply(umbrella_star, axis = 1)\n",
        "df['Umbrella/Star'] = df['Umbrella/Star'].astype(int)\n",
        "df['Umbrella/Star'].to_csv(\"Y_umbrella_star.csv\")"
      ],
      "execution_count": null,
      "outputs": []
    },
    {
      "cell_type": "markdown",
      "metadata": {
        "id": "vWARHoUH8hLu"
      },
      "source": [
        "**Loading Target Label**"
      ]
    },
    {
      "cell_type": "code",
      "metadata": {
        "colab": {
          "base_uri": "https://localhost:8080/"
        },
        "id": "a4LZX8gU59dP",
        "outputId": "568064ec-bc93-40fb-8b2e-b3cafa2be63d"
      },
      "source": [
        "y=pd.read_csv('/content/gdrive/My Drive/candlestick_patterns/Y_umbrella_star.csv',index_col=\"Date\")\n",
        "y  = to_categorical(y)\n",
        "y.shape"
      ],
      "execution_count": 24,
      "outputs": [
        {
          "output_type": "execute_result",
          "data": {
            "text/plain": [
              "(5353, 3)"
            ]
          },
          "metadata": {},
          "execution_count": 24
        }
      ]
    },
    {
      "cell_type": "markdown",
      "metadata": {
        "id": "caO7SnxQ8lBf"
      },
      "source": [
        "**Initializing the CNN Model**"
      ]
    },
    {
      "cell_type": "code",
      "metadata": {
        "id": "pOwjCc4M8Ddi"
      },
      "source": [
        "def model_umbrella_star():\n",
        "\n",
        "  model = Sequential()\n",
        "  model.add(Conv2D(32, (3, 3), kernel_initializer='he_uniform' ,activation='relu', input_shape=(64,64,3)))\n",
        "  model.add(MaxPooling2D(pool_size=(2, 2)))\n",
        "  \n",
        "  #model.add(Conv2D(64, (3, 3), kernel_initializer='he_uniform' ,activation='relu', input_shape=(64,64,3)))\n",
        "  #model.add(MaxPooling2D(pool_size=(2, 2)))\n",
        "  \n",
        "  model.add(Flatten())\n",
        "  model.add(Dense(1024,kernel_initializer='normal',activation=\"relu\"))\n",
        "  #model.add(Dropout(0.4))\n",
        "  #model.add(Dense(256,kernel_initializer='normal',activation=\"relu\"))\n",
        "  model.add(Dense(3, activation=\"softmax\"))\n",
        "\n",
        "  model.summary()\n",
        "\n",
        "  return model"
      ],
      "execution_count": 31,
      "outputs": []
    },
    {
      "cell_type": "code",
      "metadata": {
        "id": "kyMm1OPo8Dfx"
      },
      "source": [
        "X_train,y_train,X_val,y_val,X_test,y_test = split(data,y)"
      ],
      "execution_count": 40,
      "outputs": []
    },
    {
      "cell_type": "markdown",
      "metadata": {
        "id": "lm9tXM3n8pO5"
      },
      "source": [
        "**Model Training**"
      ]
    },
    {
      "cell_type": "code",
      "metadata": {
        "colab": {
          "base_uri": "https://localhost:8080/"
        },
        "id": "ULNlqv398Dh-",
        "outputId": "7c48983c-4e36-48c6-d503-3b3d4d5e911e"
      },
      "source": [
        "from tensorflow.keras.optimizers import SGD\n",
        "model=model_umbrella_star()\n",
        "opt = SGD(lr=0.01, momentum=0.9)\n",
        "model.compile(optimizer='adam', loss='binary_crossentropy', metrics=['accuracy'])\n",
        "history = model.fit(X_train,y_train, batch_size=128, epochs=5,validation_data=(X_val,y_val))"
      ],
      "execution_count": 41,
      "outputs": [
        {
          "output_type": "stream",
          "name": "stdout",
          "text": [
            "Model: \"sequential_6\"\n",
            "_________________________________________________________________\n",
            "Layer (type)                 Output Shape              Param #   \n",
            "=================================================================\n",
            "conv2d_6 (Conv2D)            (None, 62, 62, 32)        896       \n",
            "_________________________________________________________________\n",
            "max_pooling2d_6 (MaxPooling2 (None, 31, 31, 32)        0         \n",
            "_________________________________________________________________\n",
            "flatten_6 (Flatten)          (None, 30752)             0         \n",
            "_________________________________________________________________\n",
            "dense_12 (Dense)             (None, 1024)              31491072  \n",
            "_________________________________________________________________\n",
            "dense_13 (Dense)             (None, 3)                 3075      \n",
            "=================================================================\n",
            "Total params: 31,495,043\n",
            "Trainable params: 31,495,043\n",
            "Non-trainable params: 0\n",
            "_________________________________________________________________\n",
            "Epoch 1/5\n"
          ]
        },
        {
          "output_type": "stream",
          "name": "stderr",
          "text": [
            "/usr/local/lib/python3.7/dist-packages/keras/optimizer_v2/optimizer_v2.py:356: UserWarning: The `lr` argument is deprecated, use `learning_rate` instead.\n",
            "  \"The `lr` argument is deprecated, use `learning_rate` instead.\")\n"
          ]
        },
        {
          "output_type": "stream",
          "name": "stdout",
          "text": [
            "26/26 [==============================] - 2s 54ms/step - loss: 14.4788 - accuracy: 0.7920 - val_loss: 4.6589 - val_accuracy: 0.8151\n",
            "Epoch 2/5\n",
            "26/26 [==============================] - 1s 42ms/step - loss: 1.4633 - accuracy: 0.7717 - val_loss: 0.2958 - val_accuracy: 0.8739\n",
            "Epoch 3/5\n",
            "26/26 [==============================] - 1s 42ms/step - loss: 0.2331 - accuracy: 0.8661 - val_loss: 0.1731 - val_accuracy: 0.8758\n",
            "Epoch 4/5\n",
            "26/26 [==============================] - 1s 43ms/step - loss: 0.1769 - accuracy: 0.8845 - val_loss: 0.2377 - val_accuracy: 0.8992\n",
            "Epoch 5/5\n",
            "26/26 [==============================] - 1s 42ms/step - loss: 0.1962 - accuracy: 0.8795 - val_loss: 0.2357 - val_accuracy: 0.8683\n"
          ]
        }
      ]
    },
    {
      "cell_type": "markdown",
      "metadata": {
        "id": "kKh5gayA8tp-"
      },
      "source": [
        "**Plotting Results**"
      ]
    },
    {
      "cell_type": "code",
      "metadata": {
        "id": "Mhq4AT2-8Dj7"
      },
      "source": [
        "acc = history.history['accuracy']\n",
        "val_acc = history.history['val_accuracy']\n",
        "loss = history.history['loss']\n",
        "val_loss = history.history['val_loss']\n",
        "epochs_range = range(5)\n",
        "\n",
        "plt.figure(figsize=(15, 15))\n",
        "plt.subplot(2, 2, 1)\n",
        "plt.plot(epochs_range, acc, label='Training Accuracy')\n",
        "plt.plot(epochs_range, val_acc, label='Validation Accuracy')\n",
        "plt.legend(loc='lower right')\n",
        "plt.title('Training and Validation Accuracy')\n",
        "\n",
        "plt.subplot(2, 2, 2)\n",
        "plt.plot(epochs_range, loss, label='Training Loss')\n",
        "plt.plot(epochs_range, val_loss, label='Validation Loss')\n",
        "plt.legend(loc='upper right')\n",
        "plt.title('Training and Validation Loss')\n",
        "plt.show()"
      ],
      "execution_count": null,
      "outputs": []
    },
    {
      "cell_type": "code",
      "metadata": {
        "colab": {
          "base_uri": "https://localhost:8080/"
        },
        "id": "QlWKvjuP8Dl5",
        "outputId": "77dee441-1425-415a-8548-6167c05db9e6"
      },
      "source": [
        "_, acc = model.evaluate(X_test,y_test,verbose=0)\n",
        "print('Test Accuracy: %.3f' % (acc * 100))\n",
        "\n",
        "\n",
        "from sklearn.metrics import classification_report\n",
        "#x_test,y_true = test_iterator.next()\n",
        "pred = model.predict(X_test)\n",
        "\n",
        "#predictions = predictions.reshape(1,-1)[0]\n",
        "y_pred = np.argmax(pred, axis=1)\n",
        "y_true = np.argmax(y_test, axis=1)\n",
        "#print(predictions)\n",
        "#print(y_pred)\n",
        "\n",
        "#print(x)\n",
        "from sklearn.metrics import classification_report\n",
        "print(classification_report(y_true, y_pred))"
      ],
      "execution_count": 43,
      "outputs": [
        {
          "output_type": "stream",
          "name": "stdout",
          "text": [
            "Test Accuracy: 87.862\n",
            "              precision    recall  f1-score   support\n",
            "\n",
            "           0       0.99      0.87      0.93       864\n",
            "           1       0.55      1.00      0.71       141\n",
            "           2       0.86      0.73      0.79        66\n",
            "\n",
            "    accuracy                           0.88      1071\n",
            "   macro avg       0.80      0.87      0.81      1071\n",
            "weighted avg       0.93      0.88      0.89      1071\n",
            "\n"
          ]
        }
      ]
    }
  ]
}