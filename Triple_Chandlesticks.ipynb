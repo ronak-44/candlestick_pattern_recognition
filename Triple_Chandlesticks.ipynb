{
  "nbformat": 4,
  "nbformat_minor": 0,
  "metadata": {
    "colab": {
      "name": "Triple_Chandlesticks.ipynb",
      "provenance": []
    },
    "kernelspec": {
      "name": "python3",
      "display_name": "Python 3"
    },
    "language_info": {
      "name": "python"
    },
    "accelerator": "GPU"
  },
  "cells": [
    {
      "cell_type": "code",
      "metadata": {
        "id": "EIaab5hN3LnX"
      },
      "source": [
        "from google.colab import drive\n",
        "drive.mount('/content/gdrive')\n",
        "%cd \"/content/gdrive/My Drive/\"\n",
        "%cd candlestick_patterns/"
      ],
      "execution_count": null,
      "outputs": []
    },
    {
      "cell_type": "code",
      "metadata": {
        "id": "L1baylQ-jIxH"
      },
      "source": [
        "pip install --upgrade mplfinance"
      ],
      "execution_count": null,
      "outputs": []
    },
    {
      "cell_type": "markdown",
      "metadata": {
        "id": "ibfD9DcWg6Pc"
      },
      "source": [
        "**Plotting Candlesticks**\n",
        "\n",
        "Saving each three day candlestick pattern into a separate folder"
      ]
    },
    {
      "cell_type": "code",
      "metadata": {
        "id": "g9CeJ_E0v55Y",
        "colab": {
          "base_uri": "https://localhost:8080/",
          "height": 489
        },
        "outputId": "609696c5-deb6-4dc7-dfc9-8c31b4e277b8"
      },
      "source": [
        "import pandas as pd\n",
        "import os\n",
        "import mplfinance as mpf\n",
        "df = pd.read_csv(\"NIFTY 50.csv\",index_col=\"Date\")\n",
        "df.index = pd.to_datetime(df.index,dayfirst=True)\n",
        "mc = mpf.make_marketcolors(up='g',down='r')\n",
        "s  = mpf.make_mpf_style(marketcolors=mc)\n",
        "kwargs = dict(type='candle')\n",
        "#path=os.path.join(os.getcwd(),'triple')\n",
        "#os.chdir(path)\n",
        "#for i in range (5353):\n",
        "#    mpf.plot(df[i:i+3],**kwargs,style=s,scale_width_adjustment=dict(candle=1),figratio=(8,16),savefig=dict(fname='three'+str(df.index[i])[:10],dpi=100,pad_inches=0.25))\n",
        "#    print(i)\n",
        "\n",
        "mpf.plot(df[0:3],**kwargs,style=s,scale_width_adjustment=dict(candle=1),figratio=(8,16))"
      ],
      "execution_count": 25,
      "outputs": [
        {
          "output_type": "display_data",
          "data": {
            "image/png": "[encoded data removed]",
            "text/plain": [
              "<Figure size 287.5x575 with 2 Axes>"
            ]
          },
          "metadata": {}
        }
      ]
    },
    {
      "cell_type": "markdown",
      "metadata": {
        "id": "iFs6_1_fhPhZ"
      },
      "source": [
        "**Determing Target Label**\n",
        "\n",
        "Morning Star - 1\n",
        "\n",
        "Evening Star - 2\n",
        "\n",
        "None - 0 "
      ]
    },
    {
      "cell_type": "code",
      "metadata": {
        "id": "G0_0B621g-hy"
      },
      "source": [
        "Y=[]\n",
        "for i in range(5351):\n",
        "     if(  (abs(df.iloc[i+1].Open-df.iloc[i+1].Close)/max(df.iloc[i+1].Open,df.iloc[i+1].Close) )  <=0.01):\n",
        "         if ( (df.iloc[i].Close<df.iloc[i].Open) & (df.iloc[i+2].Close>df.iloc[i+2].Open) & (df.iloc[i].Open<df.iloc[i+2].Close) & (df.iloc[i].Close>df.iloc[i+2].Open) ):\n",
        "             Y.append(1)\n",
        "         elif ( (df.iloc[i].Close>df.iloc[i].Open) & (df.iloc[i+2].Close<df.iloc[i+2].Open) & (df.iloc[i].Open>df.iloc[i+2].Close) & (df.iloc[i].Close<df.iloc[i+2].Open)  ):\n",
        "             Y.append(2)\n",
        "         else:\n",
        "             Y.append(0)\n",
        "     else:\n",
        "         Y.append(0)  \n",
        "\n",
        "Y=pd.DataFrame(Y)\n",
        "Y.to_csv(\"Y_star.csv\")"
      ],
      "execution_count": null,
      "outputs": []
    },
    {
      "cell_type": "markdown",
      "metadata": {
        "id": "VcKd5Uo1lumy"
      },
      "source": [
        "**Loading and Resizing Data**\n",
        "\n",
        "Resizing data into a (224,244,3)"
      ]
    },
    {
      "cell_type": "code",
      "metadata": {
        "colab": {
          "base_uri": "https://localhost:8080/"
        },
        "id": "Jlvoma-jD60z",
        "outputId": "e2f8e2f4-9d76-4d16-80ee-3db3d5016174"
      },
      "source": [
        "import os\n",
        "zip_path = '/content/gdrive/My Drive/candlestick_patterns/triple.zip'\n",
        "!cp \"{zip_path}\" .\n",
        "!unzip -q triple.zip\n",
        "#!rm triple.zip"
      ],
      "execution_count": 4,
      "outputs": [
        {
          "output_type": "stream",
          "name": "stdout",
          "text": [
            "cp: '/content/gdrive/My Drive/candlestick_patterns/triple.zip' and './triple.zip' are the same file\n"
          ]
        }
      ]
    },
    {
      "cell_type": "code",
      "metadata": {
        "id": "pzmht6UUD625"
      },
      "source": [
        "import cv2\n",
        "import numpy as np\n",
        "import pandas as pd\n",
        "import os\n",
        "\n",
        "import tensorflow as tf\n",
        "import matplotlib.pyplot as plt\n",
        "import seaborn as sns\n",
        "\n",
        "from keras.models import Sequential\n",
        "from keras.layers import Conv2D\n",
        "from keras.layers import MaxPooling2D\n",
        "from keras.layers import Dense\n",
        "from keras.layers import Flatten,Dropout,InputLayer\n",
        "from keras.preprocessing.image import ImageDataGenerator\n",
        "from tensorflow.keras.utils import to_categorical\n",
        "\n",
        "\n",
        "from sklearn.model_selection import train_test_split"
      ],
      "execution_count": 26,
      "outputs": []
    },
    {
      "cell_type": "code",
      "metadata": {
        "id": "-GxNYfstD65C"
      },
      "source": [
        "def get_data(data_dir=os.getcwd()):\n",
        "    data = [] \n",
        "    i=0\n",
        "    path = os.path.join(data_dir, \"triple\")\n",
        "    for img in os.listdir(path):\n",
        "      try:\n",
        "          img_arr = cv2.imread(os.path.join(path, img))[...,::-1] #convert BGR to RGB format\n",
        "          resized_arr = cv2.resize(img_arr, (64, 64)) # Reshaping images to preferred size\n",
        "          data.append(resized_arr)\n",
        "          print(i)\n",
        "          i=i+1\n",
        "      except Exception as e:\n",
        "          print(e)\n",
        "\n",
        "\n",
        "    return np.array(data)"
      ],
      "execution_count": 27,
      "outputs": []
    },
    {
      "cell_type": "code",
      "metadata": {
        "id": "wJjvtz42D67N"
      },
      "source": [
        "data=get_data()\n"
      ],
      "execution_count": null,
      "outputs": []
    },
    {
      "cell_type": "code",
      "metadata": {
        "colab": {
          "base_uri": "https://localhost:8080/",
          "height": 423
        },
        "id": "_tF1WsmRD69J",
        "outputId": "85bc5365-1179-46f7-bf65-91f09a9d7849"
      },
      "source": [
        "plt.imshow(data[0])\n",
        "plt.axis('off')"
      ],
      "execution_count": 29,
      "outputs": [
        {
          "output_type": "execute_result",
          "data": {
            "text/plain": [
              "(-0.5, 63.5, 63.5, -0.5)"
            ]
          },
          "metadata": {},
          "execution_count": 29
        },
        {
          "output_type": "display_data",
          "data": {
            "image/png": "[encoded data removed]",
            "text/plain": [
              "<Figure size 640x480 with 1 Axes>"
            ]
          },
          "metadata": {}
        }
      ]
    },
    {
      "cell_type": "markdown",
      "metadata": {
        "id": "p2VdNicomEce"
      },
      "source": [
        "**Loading Target Label**"
      ]
    },
    {
      "cell_type": "code",
      "metadata": {
        "colab": {
          "base_uri": "https://localhost:8080/"
        },
        "id": "GH1IfU5XEG2V",
        "outputId": "3a7c00b1-4e30-481e-f307-ef45e1e02cd3"
      },
      "source": [
        "y=pd.read_csv('/content/gdrive/My Drive/candlestick_patterns/Y_star.csv')\n",
        "print(y.iloc[:,1].value_counts())\n",
        "y  = to_categorical(y.iloc[:,1])\n",
        "y.shape"
      ],
      "execution_count": 38,
      "outputs": [
        {
          "output_type": "stream",
          "name": "stdout",
          "text": [
            "0    5128\n",
            "2     127\n",
            "1      96\n",
            "Name: 0, dtype: int64\n"
          ]
        },
        {
          "output_type": "execute_result",
          "data": {
            "text/plain": [
              "(5351, 3)"
            ]
          },
          "metadata": {},
          "execution_count": 38
        }
      ]
    },
    {
      "cell_type": "markdown",
      "metadata": {
        "id": "nFUuB4sOmHuE"
      },
      "source": [
        "**Initializing the CNN Model**"
      ]
    },
    {
      "cell_type": "code",
      "metadata": {
        "id": "S2HHkUg8EG4o"
      },
      "source": [
        "def split(X,y):\n",
        "  X=X/255.0\n",
        "  X_train,X_test, y_train, y_test = train_test_split(X, y, test_size=0.2, random_state=1)\n",
        "  X_train,X_val, y_train, y_val = train_test_split(X_train, y_train, test_size=0.25, random_state=1)\n",
        "  return X_train,y_train,X_val,y_val,X_test,y_test"
      ],
      "execution_count": 45,
      "outputs": []
    },
    {
      "cell_type": "code",
      "metadata": {
        "id": "DQXX1oUsEG7H"
      },
      "source": [
        "def model_star():\n",
        "\n",
        "  model = Sequential()\n",
        "  model.add(Conv2D(32, (3, 3), kernel_initializer='he_uniform' ,activation='relu', input_shape=(64,64,3)))\n",
        "  model.add(MaxPooling2D(pool_size=(2, 2)))\n",
        "  \n",
        "  model.add(Conv2D(64, (3, 3), kernel_initializer='he_uniform' ,activation='relu', input_shape=(64,64,3)))\n",
        "  model.add(MaxPooling2D(pool_size=(2, 2)))\n",
        "  \n",
        "  model.add(Flatten())\n",
        "  model.add(Dense(1024,kernel_initializer='normal',activation=\"relu\"))\n",
        "  #model.add(Dropout(0.4))\n",
        "  #model.add(Dense(256,kernel_initializer='normal',activation=\"relu\"))\n",
        "  model.add(Dense(3, activation=\"softmax\"))\n",
        "\n",
        "  model.summary()\n",
        "\n",
        "  return model"
      ],
      "execution_count": 46,
      "outputs": []
    },
    {
      "cell_type": "code",
      "metadata": {
        "id": "cNI6gUaZEG9H"
      },
      "source": [
        "X_train,y_train,X_val,y_val,X_test,y_test = split(data,y)"
      ],
      "execution_count": 55,
      "outputs": []
    },
    {
      "cell_type": "markdown",
      "metadata": {
        "id": "O0Ej2nfRmMsb"
      },
      "source": [
        "**Training Model**"
      ]
    },
    {
      "cell_type": "code",
      "metadata": {
        "colab": {
          "base_uri": "https://localhost:8080/"
        },
        "id": "3F2izK6yEG_F",
        "outputId": "44c2e7b8-38f0-4b0a-e516-39f66bfab650"
      },
      "source": [
        "from tensorflow.keras.optimizers import SGD\n",
        "model=model_star()\n",
        "opt = SGD(lr=0.01, momentum=0.9)\n",
        "model.compile(optimizer='adam', loss='binary_crossentropy', metrics=['accuracy'])\n",
        "history = model.fit(X_train,y_train, batch_size=128, epochs=5,validation_data=(X_val,y_val))"
      ],
      "execution_count": 56,
      "outputs": [
        {
          "output_type": "stream",
          "name": "stdout",
          "text": [
            "Model: \"sequential_6\"\n",
            "_________________________________________________________________\n",
            "Layer (type)                 Output Shape              Param #   \n",
            "=================================================================\n",
            "conv2d_12 (Conv2D)           (None, 62, 62, 32)        896       \n",
            "_________________________________________________________________\n",
            "max_pooling2d_12 (MaxPooling (None, 31, 31, 32)        0         \n",
            "_________________________________________________________________\n",
            "conv2d_13 (Conv2D)           (None, 29, 29, 64)        18496     \n",
            "_________________________________________________________________\n",
            "max_pooling2d_13 (MaxPooling (None, 14, 14, 64)        0         \n",
            "_________________________________________________________________\n",
            "flatten_6 (Flatten)          (None, 12544)             0         \n",
            "_________________________________________________________________\n",
            "dense_12 (Dense)             (None, 1024)              12846080  \n",
            "_________________________________________________________________\n",
            "dense_13 (Dense)             (None, 3)                 3075      \n",
            "=================================================================\n",
            "Total params: 12,868,547\n",
            "Trainable params: 12,868,547\n",
            "Non-trainable params: 0\n",
            "_________________________________________________________________\n",
            "Epoch 1/5\n"
          ]
        },
        {
          "output_type": "stream",
          "name": "stderr",
          "text": [
            "/usr/local/lib/python3.7/dist-packages/keras/optimizer_v2/optimizer_v2.py:356: UserWarning: The `lr` argument is deprecated, use `learning_rate` instead.\n",
            "  \"The `lr` argument is deprecated, use `learning_rate` instead.\")\n"
          ]
        },
        {
          "output_type": "stream",
          "name": "stdout",
          "text": [
            "26/26 [==============================] - 2s 47ms/step - loss: 2.0507 - accuracy: 0.9255 - val_loss: 0.1528 - val_accuracy: 0.9607\n",
            "Epoch 2/5\n",
            "26/26 [==============================] - 1s 38ms/step - loss: 0.0981 - accuracy: 0.9604 - val_loss: 0.1023 - val_accuracy: 0.9607\n",
            "Epoch 3/5\n",
            "26/26 [==============================] - 1s 37ms/step - loss: 0.0636 - accuracy: 0.9651 - val_loss: 0.0631 - val_accuracy: 0.9645\n",
            "Epoch 4/5\n",
            "26/26 [==============================] - 1s 37ms/step - loss: 0.0501 - accuracy: 0.9679 - val_loss: 0.0621 - val_accuracy: 0.9664\n",
            "Epoch 5/5\n",
            "26/26 [==============================] - 1s 38ms/step - loss: 0.0441 - accuracy: 0.9729 - val_loss: 0.0606 - val_accuracy: 0.9682\n"
          ]
        }
      ]
    },
    {
      "cell_type": "markdown",
      "metadata": {
        "id": "OGOxBLTgmQFv"
      },
      "source": [
        "**Plotting Results**"
      ]
    },
    {
      "cell_type": "code",
      "metadata": {
        "colab": {
          "base_uri": "https://localhost:8080/",
          "height": 608
        },
        "id": "4Md9zE69EHBD",
        "outputId": "c07030bf-9e6e-4981-e103-bb34c984c477"
      },
      "source": [
        "acc = history.history['accuracy']\n",
        "val_acc = history.history['val_accuracy']\n",
        "loss = history.history['loss']\n",
        "val_loss = history.history['val_loss']\n",
        "epochs_range = range(5)\n",
        "\n",
        "plt.figure(figsize=(15, 15))\n",
        "plt.subplot(2, 2, 1)\n",
        "plt.plot(epochs_range, acc, label='Training Accuracy')\n",
        "plt.plot(epochs_range, val_acc, label='Validation Accuracy')\n",
        "plt.legend(loc='lower right')\n",
        "plt.title('Training and Validation Accuracy')\n",
        "\n",
        "plt.subplot(2, 2, 2)\n",
        "plt.plot(epochs_range, loss, label='Training Loss')\n",
        "plt.plot(epochs_range, val_loss, label='Validation Loss')\n",
        "plt.legend(loc='upper right')\n",
        "plt.title('Training and Validation Loss')\n",
        "plt.show()"
      ],
      "execution_count": 57,
      "outputs": [
        {
          "output_type": "display_data",
          "data": {
            "image/png": "[encoded data removed]",
            "text/plain": [
              "<Figure size 1500x1500 with 2 Axes>"
            ]
          },
          "metadata": {}
        }
      ]
    },
    {
      "cell_type": "code",
      "metadata": {
        "colab": {
          "base_uri": "https://localhost:8080/"
        },
        "id": "VC0AEskbEHDF",
        "outputId": "9aa5437a-13f7-4ea4-c505-599970ebd2c0"
      },
      "source": [
        "_, acc = model.evaluate(X_test,y_test,verbose=0)\n",
        "print('Test Accuracy: %.3f' % (acc * 100))\n",
        "\n",
        "\n",
        "from sklearn.metrics import classification_report\n",
        "pred = model.predict(X_test)\n",
        "#pred = (pred>0.3)\n",
        "#print(pred)\n",
        "\n",
        "y_pred = np.argmax(pred, axis=1)\n",
        "y_true = np.argmax(y_test, axis=1)\n",
        "\n",
        "from sklearn.metrics import classification_report\n",
        "print(classification_report(y_true, y_pred))"
      ],
      "execution_count": 58,
      "outputs": [
        {
          "output_type": "stream",
          "name": "stdout",
          "text": [
            "Test Accuracy: 96.825\n",
            "              precision    recall  f1-score   support\n",
            "\n",
            "           0       0.97      0.99      0.98      1022\n",
            "           1       0.89      0.31      0.46        26\n",
            "           2       0.70      0.61      0.65        23\n",
            "\n",
            "    accuracy                           0.97      1071\n",
            "   macro avg       0.85      0.64      0.70      1071\n",
            "weighted avg       0.97      0.97      0.96      1071\n",
            "\n"
          ]
        }
      ]
    },
    {
      "cell_type": "code",
      "metadata": {
        "id": "5QpenHGeEHFV"
      },
      "source": [
        ""
      ],
      "execution_count": null,
      "outputs": []
    },
    {
      "cell_type": "code",
      "metadata": {
        "id": "0sxmXdynD6_e"
      },
      "source": [
        ""
      ],
      "execution_count": null,
      "outputs": []
    },
    {
      "cell_type": "code",
      "metadata": {
        "id": "KeLOBdImD7B8"
      },
      "source": [
        ""
      ],
      "execution_count": null,
      "outputs": []
    }
  ]
}